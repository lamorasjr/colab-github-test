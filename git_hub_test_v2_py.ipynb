{
  "nbformat": 4,
  "nbformat_minor": 0,
  "metadata": {
    "colab": {
      "provenance": [],
      "authorship_tag": "ABX9TyN6UlfE1ba4VfQseuBBgkX9"
    },
    "kernelspec": {
      "name": "python3",
      "display_name": "Python 3"
    },
    "language_info": {
      "name": "python"
    }
  },
  "cells": [
    {
      "cell_type": "code",
      "source": [
        "import requests\n",
        "\n",
        "url = \"https://randomuser.me/api/\"\n",
        "\n",
        "response = requests.get(url).json()\n",
        "\n",
        "response"
      ],
      "metadata": {
        "id": "ha9gOLth8UOQ",
        "colab": {
          "base_uri": "https://localhost:8080/"
        },
        "outputId": "0b6566b8-42d4-49e0-aa68-6651860275f7"
      },
      "execution_count": null,
      "outputs": [
        {
          "output_type": "execute_result",
          "data": {
            "text/plain": [
              "{'results': [{'gender': 'male',\n",
              "   'name': {'title': 'Mr', 'first': 'Henry', 'last': 'Williams'},\n",
              "   'location': {'street': {'number': 9250, 'name': 'Brockville Road'},\n",
              "    'city': 'Hamilton',\n",
              "    'state': 'Tasman',\n",
              "    'country': 'New Zealand',\n",
              "    'postcode': 45131,\n",
              "    'coordinates': {'latitude': '53.4311', 'longitude': '-3.5114'},\n",
              "    'timezone': {'offset': '+7:00', 'description': 'Bangkok, Hanoi, Jakarta'}},\n",
              "   'email': 'henry.williams@example.com',\n",
              "   'login': {'uuid': '7ede14c6-e9d4-4c05-8e74-009be1a406ec',\n",
              "    'username': 'heavyelephant103',\n",
              "    'password': 'tabitha',\n",
              "    'salt': '4K2qXauH',\n",
              "    'md5': '57197d7ff8d337e9f1f3fc9fc60a3bc4',\n",
              "    'sha1': '09a9c3813d420ed026980ac6e04d5112b55b13ed',\n",
              "    'sha256': '520eb5b88a091b52a68a9cfbec7b46c02e871c249be335a50ab8ecadcbcc9139'},\n",
              "   'dob': {'date': '1946-07-02T16:34:45.715Z', 'age': 78},\n",
              "   'registered': {'date': '2014-09-07T01:13:20.486Z', 'age': 9},\n",
              "   'phone': '(916)-203-8771',\n",
              "   'cell': '(137)-275-2859',\n",
              "   'id': {'name': '', 'value': None},\n",
              "   'picture': {'large': 'https://randomuser.me/api/portraits/men/74.jpg',\n",
              "    'medium': 'https://randomuser.me/api/portraits/med/men/74.jpg',\n",
              "    'thumbnail': 'https://randomuser.me/api/portraits/thumb/men/74.jpg'},\n",
              "   'nat': 'NZ'}],\n",
              " 'info': {'seed': '37f2a96a1385fb50',\n",
              "  'results': 1,\n",
              "  'page': 1,\n",
              "  'version': '1.4'}}"
            ]
          },
          "metadata": {},
          "execution_count": 9
        }
      ]
    },
    {
      "cell_type": "code",
      "source": [],
      "metadata": {
        "id": "2BG7LE8G_f3P"
      },
      "execution_count": null,
      "outputs": []
    }
  ]
}